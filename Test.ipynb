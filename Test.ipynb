{
 "cells": [
  {
   "cell_type": "code",
   "execution_count": 24,
   "metadata": {},
   "outputs": [],
   "source": [
    "import pandas as pd\n",
    "# !pip install xlrd\n",
    "# Upload file data\n",
    "# file = 'data.csv'\n",
    "file = 'data3.xls'\n",
    "df = pd.read_excel(file)"
   ]
  },
  {
   "cell_type": "code",
   "execution_count": 25,
   "metadata": {},
   "outputs": [
    {
     "name": "stdout",
     "output_type": "stream",
     "text": [
      "  Tipo Movimiento     Sucursal           Vendedor             Cliente  \\\n",
      "0           Venta  CASA MATRIZ  REYNALDO CARDENAS  COMO EN ITALIA SPA   \n",
      "1           Venta  CASA MATRIZ  REYNALDO CARDENAS  COMO EN ITALIA SPA   \n",
      "2           Venta  CASA MATRIZ  REYNALDO CARDENAS  COMO EN ITALIA SPA   \n",
      "3           Venta  CASA MATRIZ  REYNALDO CARDENAS  COMO EN ITALIA SPA   \n",
      "4           Venta  CASA MATRIZ  REYNALDO CARDENAS  COMO EN ITALIA SPA   \n",
      "5           Venta  CASA MATRIZ  REYNALDO CARDENAS  COMO EN ITALIA SPA   \n",
      "6           Venta  CASA MATRIZ  REYNALDO CARDENAS  COMO EN ITALIA SPA   \n",
      "7           Venta  CASA MATRIZ  REYNALDO CARDENAS  COMO EN ITALIA SPA   \n",
      "8           Venta  CASA MATRIZ  REYNALDO CARDENAS  COMO EN ITALIA SPA   \n",
      "9           Venta  CASA MATRIZ  REYNALDO CARDENAS  COMO EN ITALIA SPA   \n",
      "\n",
      "  Rut Cliente      Tipo de Documento  Numero Documento Tracking Number  \\\n",
      "0  76507723-0  factura electrónica t          133017.0             NaN   \n",
      "1  76507723-0  factura electrónica t          133017.0             NaN   \n",
      "2  76507723-0  factura electrónica t          133017.0             NaN   \n",
      "3  76507723-0  factura electrónica t          133017.0             NaN   \n",
      "4  76507723-0  factura electrónica t          133017.0             NaN   \n",
      "5  76507723-0  factura electrónica t          133017.0             NaN   \n",
      "6  76507723-0  factura electrónica t          133017.0             NaN   \n",
      "7  76507723-0  factura electrónica t          133017.0             NaN   \n",
      "8  76507723-0  factura electrónica t          133017.0             NaN   \n",
      "9  76507723-0  factura electrónica t          133017.0             NaN   \n",
      "\n",
      "  Fecha Documento   Fecha y Hora Venta  ... Subtotal Bruto  \\\n",
      "0      01/12/2023  01/12/2023 07:42 AM  ...         672873   \n",
      "1      01/12/2023  01/12/2023 07:42 AM  ...          56843   \n",
      "2      01/12/2023  01/12/2023 07:42 AM  ...          81753   \n",
      "3      01/12/2023  01/12/2023 07:42 AM  ...         150340   \n",
      "4      01/12/2023  01/12/2023 07:42 AM  ...         119952   \n",
      "5      01/12/2023  01/12/2023 07:42 AM  ...          99960   \n",
      "6      01/12/2023  01/12/2023 07:42 AM  ...           9758   \n",
      "7      01/12/2023  01/12/2023 07:42 AM  ...          20599   \n",
      "8      01/12/2023  01/12/2023 07:42 AM  ...          97104   \n",
      "9      01/12/2023  01/12/2023 07:42 AM  ...           3998   \n",
      "\n",
      "  Costo Neto Unitario  Margen Costo Total Neto % Margen  \\\n",
      "0              2239.0  350496         214944.0       62   \n",
      "1              7057.0   26173          21594.0       55   \n",
      "2             13390.0   28530          40170.0       42   \n",
      "3               695.0   67929          58407.0       54   \n",
      "4              8880.0   47520          53280.0       47   \n",
      "5              9664.0   35679          48321.0       42   \n",
      "6              1475.0    5250           2950.0       64   \n",
      "7              5694.0    8541           8769.0       49   \n",
      "8             16353.0   32540          49060.0       40   \n",
      "9               943.0    1474           1886.0       44   \n",
      "\n",
      "  Detalle de Productos/Servicios Pack/Promo  Dirección Cliente  \\\n",
      "0                                       NaN         EL GOLF 82   \n",
      "1                                       NaN         EL GOLF 82   \n",
      "2                                       NaN         EL GOLF 82   \n",
      "3                                       NaN         EL GOLF 82   \n",
      "4                                       NaN         EL GOLF 82   \n",
      "5                                       NaN         EL GOLF 82   \n",
      "6                                       NaN         EL GOLF 82   \n",
      "7                                       NaN         EL GOLF 82   \n",
      "8                                       NaN         EL GOLF 82   \n",
      "9                                       NaN         EL GOLF 82   \n",
      "\n",
      "   Comuna Cliente  Ciudad Cliente              Email Cliente  \n",
      "0      LAS CONDES        SANTIAGO  wuilmarmorantes@gmail.com  \n",
      "1      LAS CONDES        SANTIAGO  wuilmarmorantes@gmail.com  \n",
      "2      LAS CONDES        SANTIAGO  wuilmarmorantes@gmail.com  \n",
      "3      LAS CONDES        SANTIAGO  wuilmarmorantes@gmail.com  \n",
      "4      LAS CONDES        SANTIAGO  wuilmarmorantes@gmail.com  \n",
      "5      LAS CONDES        SANTIAGO  wuilmarmorantes@gmail.com  \n",
      "6      LAS CONDES        SANTIAGO  wuilmarmorantes@gmail.com  \n",
      "7      LAS CONDES        SANTIAGO  wuilmarmorantes@gmail.com  \n",
      "8      LAS CONDES        SANTIAGO  wuilmarmorantes@gmail.com  \n",
      "9      LAS CONDES        SANTIAGO  wuilmarmorantes@gmail.com  \n",
      "\n",
      "[10 rows x 29 columns]\n"
     ]
    }
   ],
   "source": [
    "#show the first 5 rows of the dataframe\n",
    "print(df.head(10))\n"
   ]
  },
  {
   "cell_type": "code",
   "execution_count": 26,
   "metadata": {},
   "outputs": [
    {
     "name": "stdout",
     "output_type": "stream",
     "text": [
      "RangeIndex(start=0, stop=38820, step=1)\n",
      "Index(['Tipo Movimiento', 'Sucursal', 'Vendedor', 'Cliente', 'Rut Cliente',\n",
      "       'Tipo de Documento', 'Numero Documento', 'Tracking Number',\n",
      "       'Fecha Documento', 'Fecha y Hora Venta', 'Lista de Precio',\n",
      "       'Tipo de Producto / Servicio', 'SKU', 'Producto / Servicio',\n",
      "       'Otros Atributos', 'Precio Neto Unitario', 'Cantidad',\n",
      "       'Subtotal Impuestos', 'Subtotal Neto', 'Subtotal Bruto',\n",
      "       'Costo Neto Unitario', 'Margen', 'Costo Total Neto', '% Margen',\n",
      "       'Detalle de Productos/Servicios Pack/Promo', 'Dirección Cliente',\n",
      "       'Comuna Cliente', 'Ciudad Cliente', 'Email Cliente'],\n",
      "      dtype='object')\n"
     ]
    }
   ],
   "source": [
    "# number of rows in the df\n",
    "print(df.index)\n",
    "# print columns names\n",
    "print(df.columns)"
   ]
  },
  {
   "cell_type": "code",
   "execution_count": 21,
   "metadata": {},
   "outputs": [
    {
     "name": "stdout",
     "output_type": "stream",
     "text": [
      "RangeIndex(start=0, stop=11753, step=1)\n"
     ]
    }
   ],
   "source": [
    "print(df.index)"
   ]
  },
  {
   "cell_type": "code",
   "execution_count": null,
   "metadata": {},
   "outputs": [],
   "source": [
    "import pandas as pd\n",
    "# !pip install xlrd\n",
    "# Upload file data\n",
    "# file = 'data.csv'\n",
    "file = 'data2.xls'\n",
    "df = pd.read_excel(file)"
   ]
  },
  {
   "cell_type": "code",
   "execution_count": 30,
   "metadata": {},
   "outputs": [
    {
     "name": "stdout",
     "output_type": "stream",
     "text": [
      "['CASA MATRIZ' 'TIENDA VITACURA' 'EVENTOS - CASA MATRIZ' nan]\n",
      "1\n",
      "['CASA MATRIZ' 'TIENDA VITACURA' 'EVENTOS - CASA MATRIZ']\n"
     ]
    }
   ],
   "source": [
    "# Show me the unique values of column 'A'\n",
    "print(df['Sucursal'].unique())\n",
    "# Count the nan values in the column 'A'\n",
    "print(df['Sucursal'].isnull().sum())\n",
    "# Drop the rows with nan values in the column 'A'\n",
    "df = df.dropna(subset=['Sucursal'])\n",
    "print(df['Sucursal'].unique())\n"
   ]
  }
 ],
 "metadata": {
  "kernelspec": {
   "display_name": "venv",
   "language": "python",
   "name": "python3"
  },
  "language_info": {
   "codemirror_mode": {
    "name": "ipython",
    "version": 3
   },
   "file_extension": ".py",
   "mimetype": "text/x-python",
   "name": "python",
   "nbconvert_exporter": "python",
   "pygments_lexer": "ipython3",
   "version": "3.11.7"
  }
 },
 "nbformat": 4,
 "nbformat_minor": 2
}
